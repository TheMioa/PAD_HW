{
 "cells": [
  {
   "cell_type": "code",
   "execution_count": 50,
   "metadata": {},
   "outputs": [],
   "source": [
    "class Animal():\n",
    "    def __init__(self, genus, gender = \"Female\"):\n",
    "        self.isAlive = True\n",
    "        self.gender = gender\n",
    "        self.genus = genus\n",
    "\n",
    "    def breed(self, partner):\n",
    "        if self.gender == \"Female\" and partner.gender == \"Male\" and self.genus == partner.genus:\n",
    "            new = Animal(genus = self.genus)\n",
    "        try:\n",
    "            new.gender\n",
    "            return new\n",
    "        except UnboundLocalError:\n",
    "            print('attribute not found')\n",
    "\n",
    "\n"
   ]
  },
  {
   "cell_type": "code",
   "execution_count": 51,
   "metadata": {},
   "outputs": [],
   "source": [
    "class Dog(Animal):\n",
    "    def woof(self):\n",
    "        return \"woof woof\"\n",
    "    \n",
    "class Cat(Animal):\n",
    "    def purr(self):\n",
    "        return \"purr\""
   ]
  },
  {
   "cell_type": "code",
   "execution_count": 53,
   "metadata": {},
   "outputs": [],
   "source": [
    "d = Dog(genus = 'a', gender= 'Female')\n",
    "c = Cat(genus = 'b')\n",
    "c2 = Cat(genus = 'b', gender='Male')\n",
    "\n",
    "new = c.breed(c2)"
   ]
  },
  {
   "cell_type": "code",
   "execution_count": 54,
   "metadata": {},
   "outputs": [
    {
     "data": {
      "text/plain": [
       "'b'"
      ]
     },
     "execution_count": 54,
     "metadata": {},
     "output_type": "execute_result"
    }
   ],
   "source": [
    "new.genus"
   ]
  },
  {
   "cell_type": "code",
   "execution_count": 5,
   "metadata": {},
   "outputs": [],
   "source": [
    "from datetime import datetime\n",
    "\n",
    "class Worker():\n",
    "    def __init__(self, number, name, age, salary):\n",
    "        self.number = number\n",
    "        self.age = datetime.now().year - age\n",
    "        self.salary = salary\n",
    "        self.name = name\n",
    "    \n",
    "w1 = Worker(1, 'Adam', 1983, 1500)\n",
    "w2 = Worker(2, 'Anna', 1981, 1700)\n",
    "w3 = Worker(3, 'Błazej', 1990, 1800)\n",
    "w4 = Worker(4, 'Beata', 1992, 1600)\n",
    "w5 = Worker(5, 'Czesław', 1980, 2000)\n",
    "w6 = Worker(6, 'Cecylia', 1983, 2100)\n",
    "w7 = Worker(7, 'Daniel', 1976, 1900)\n",
    "\n",
    "workers = [w1,w2,w3,w4,w5,w6,w7]\n"
   ]
  },
  {
   "cell_type": "code",
   "execution_count": 6,
   "metadata": {},
   "outputs": [
    {
     "data": {
      "text/plain": [
       "1800.0"
      ]
     },
     "execution_count": 6,
     "metadata": {},
     "output_type": "execute_result"
    }
   ],
   "source": [
    "def meanSalary(workers):\n",
    "    sum = 0\n",
    "    for  w in workers:\n",
    "        sum += w.salary\n",
    "    return sum/len(workers)\n",
    "\n",
    "meanSalary(workers)\n"
   ]
  },
  {
   "cell_type": "code",
   "execution_count": 15,
   "metadata": {},
   "outputs": [
    {
     "name": "stdout",
     "output_type": "stream",
     "text": [
      "Średnia pensja młodszych niz 30 lat to: 1600.000\n",
      "Średnia pensja starszych to: 1833.333\n",
      "Średnia pensja młodyszych to 0.873 pensji starszych\n"
     ]
    }
   ],
   "source": [
    "def compareOldSalariesWithYoung(workers):\n",
    "    sum_old = 0\n",
    "    sum_young = 0\n",
    "    count_young = 0\n",
    "    count_old = 0\n",
    "    for w in workers:\n",
    "        if w.age < 31:\n",
    "            sum_young += w.salary\n",
    "            count_young += 1\n",
    "        else:\n",
    "            sum_old += w.salary\n",
    "            count_old += 1\n",
    "    mean_young = sum_young/count_young\n",
    "    mean_old = sum_old/count_old\n",
    "    difference = mean_young/mean_old\n",
    "    print('Średnia pensja młodszych niz 30 lat to: {:.3f}'.format(mean_young) + '\\nŚrednia pensja starszych to: {:.3f}'.format(mean_old))\n",
    "    print('Średnia pensja młodyszych to {:1.3f}'.format(difference) + ' pensji starszych')\n",
    "\n",
    "compareOldSalariesWithYoung(workers)\n",
    "\n",
    "    "
   ]
  },
  {
   "cell_type": "markdown",
   "metadata": {},
   "source": [
    "Musiałem zmienić wiek na 31, poniewaz nie ma nikogo młodszego niz 30 lat"
   ]
  }
 ],
 "metadata": {
  "interpreter": {
   "hash": "31f2aee4e71d21fbe5cf8b01ff0e069b9275f58929596ceb00d14d90e3e16cd6"
  },
  "kernelspec": {
   "display_name": "Python 3.8.9 64-bit",
   "language": "python",
   "name": "python3"
  },
  "language_info": {
   "codemirror_mode": {
    "name": "ipython",
    "version": 3
   },
   "file_extension": ".py",
   "mimetype": "text/x-python",
   "name": "python",
   "nbconvert_exporter": "python",
   "pygments_lexer": "ipython3",
   "version": "3.8.9"
  },
  "orig_nbformat": 4
 },
 "nbformat": 4,
 "nbformat_minor": 2
}
